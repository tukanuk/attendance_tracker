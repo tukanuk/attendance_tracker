{
 "cells": [
  {
   "cell_type": "code",
   "execution_count": 15,
   "metadata": {},
   "outputs": [],
   "source": [
    "from datetime import datetime\n",
    "import csv"
   ]
  },
  {
   "cell_type": "code",
   "execution_count": 17,
   "metadata": {},
   "outputs": [],
   "source": [
    "dt = datetime.now()\n",
    "ts = datetime.timestamp(dt)\n",
    "print(dt)"
   ]
  },
  {
   "cell_type": "code",
   "execution_count": 20,
   "metadata": {},
   "outputs": [
    {
     "name": "stdout",
     "output_type": "stream",
     "text": [
      "2022-01-13 16:59:43.230423\n"
     ]
    }
   ],
   "source": []
  },
  {
   "cell_type": "code",
   "execution_count": 22,
   "metadata": {},
   "outputs": [
    {
     "ename": "SyntaxError",
     "evalue": "invalid decimal literal (<ipython-input-22-16d183c689ac>, line 1)",
     "output_type": "error",
     "traceback": [
      "\u001b[0;36m  File \u001b[0;32m\"<ipython-input-22-16d183c689ac>\"\u001b[0;36m, line \u001b[0;32m1\u001b[0m\n\u001b[0;31m    2021-1102_Rogers_Cohort_1 = [Abigail.Schafer@rci.rogers.ca, Ada.Lam@rci.rogers.ca, Ahsan.Ali@rci.rogers.ca, Alaa.Buheis@rci.rogers.ca, Aldo.Stellato@rci.rogers.ca, Amrit.Cheema@rci.rogers.ca, Anil.Sharma@rci.rogers.ca, Ankit.Patel4@rci.rogers.ca, Arezoo.Hoveyda@rci.rogers.ca, Bey.Wang@rci.rogers.ca, Bruce.Guan@rci.rogers.ca, Carina.Slim@rci.rogers.ca, Chandrahasa.Yennam@rci.rogers.ca, Cheech.Sun@rci.rogers.ca, Danny.Marandola@rci.rogers.ca, Fab.Ferrigni@rci.rogers.ca, Feng.Dong@rci.rogers.ca, Frederic.Gailloux@rci.rogers.ca, Gang.Jin@rci.rogers.ca, Hakan.Utkan@rci.rogers.ca, Humayun.Patwary@rci.rogers.ca, James.Jiang@rci.rogers.ca, James.Sarmiento@rci.rogers.ca, JamesHF.Chan@rci.rogers.ca, Jason.Zhu@rci.rogers.ca, Jay.Dixit@rci.rogers.ca, Jeremy.Liu@rci.rogers.ca, Jeselene.DelaCruz@rci.rogers.ca, Jonathan.LeBlanc@rci.rogers.ca, Kapil.Kumar@rci.rogers.ca, Karan.Patel@rci.rogers.ca, Karan.Singh4@rci.rogers.ca, KarthikReddy.Peddola@rci.rogers.ca, Kevin.Chen@rci.rogers.ca, Khizer.Syed@rci.rogers.ca, Kiruthika.Venkatesan@rci.rogers.ca, Laila.Khatib@rci.rogers.ca, Laura.Huang@rci.rogers.ca, Leosailomaxwell.Lour@rci.rogers.ca, Lihui.Wang@rci.rogers.ca, Max.Gan@rci.rogers.ca, Mayur.Patel2@rci.rogers.ca, Naresh.Akkarapaka@rci.rogers.ca, Noura.Alwan@rci.rogers.ca, Olufemi.Adetona@rci.rogers.ca, Osman.Currim@rci.rogers.ca, Prashant.Jakhotiya@rci.rogers.ca, Rajiv.Chugh@rci.rogers.ca, Ranka.Samardzija@rci.rogers.ca, Rick.Li@rci.rogers.ca, RobertA.Groves@rci.rogers.ca, Robin.Gagnon@rci.rogers.ca, Santosh.Thundi@rci.rogers.ca, Sen.Wang@rci.rogers.ca, Shanie.Doobay@rci.rogers.ca, Shawn.Lazaros@rci.rogers.ca, Simon.So@rci.rogers.ca, Sol.Seyedi@rci.rogers.ca, Sreehari.S@rci.rogers.ca, Stephane.Belliveau@rci.rogers.ca, SteveC.Szenkovics@rci.rogers.ca, Stone.Li@rci.rogers.ca, Sudarshan.Bodireddy@rci.rogers.ca, Sumit.Kandari@rci.rogers.ca, Sumit.Rawal@rci.rogers.ca, Sunny.Chan@rci.rogers.ca, Swathi.Kondakalla@rci.rogers.ca, Timothy.Zub@rci.rogers.ca, Ting.Qi@rci.rogers.ca, Vandana.Basani@rci.rogers.ca, Vanessa.Ng@rci.rogers.ca, Vijayakumar.Sankaran@rci.rogers.ca, Wasif.Chowdhury@rci.rogers.ca, Zarif.Hasan@rci.rogers.ca]\u001b[0m\n\u001b[0m             ^\u001b[0m\n\u001b[0;31mSyntaxError\u001b[0m\u001b[0;31m:\u001b[0m invalid decimal literal\n"
     ]
    }
   ],
   "source": [
    "2021-1102_Rogers_Cohort_1 = [Abigail.Schafer@rci.rogers.ca, Ada.Lam@rci.rogers.ca, Ahsan.Ali@rci.rogers.ca, Alaa.Buheis@rci.rogers.ca, Aldo.Stellato@rci.rogers.ca, Amrit.Cheema@rci.rogers.ca, Anil.Sharma@rci.rogers.ca, Ankit.Patel4@rci.rogers.ca, Arezoo.Hoveyda@rci.rogers.ca, Bey.Wang@rci.rogers.ca, Bruce.Guan@rci.rogers.ca, Carina.Slim@rci.rogers.ca, Chandrahasa.Yennam@rci.rogers.ca, Cheech.Sun@rci.rogers.ca, Danny.Marandola@rci.rogers.ca, Fab.Ferrigni@rci.rogers.ca, Feng.Dong@rci.rogers.ca, Frederic.Gailloux@rci.rogers.ca, Gang.Jin@rci.rogers.ca, Hakan.Utkan@rci.rogers.ca, Humayun.Patwary@rci.rogers.ca, James.Jiang@rci.rogers.ca, James.Sarmiento@rci.rogers.ca, JamesHF.Chan@rci.rogers.ca, Jason.Zhu@rci.rogers.ca, Jay.Dixit@rci.rogers.ca, Jeremy.Liu@rci.rogers.ca, Jeselene.DelaCruz@rci.rogers.ca, Jonathan.LeBlanc@rci.rogers.ca, Kapil.Kumar@rci.rogers.ca, Karan.Patel@rci.rogers.ca, Karan.Singh4@rci.rogers.ca, KarthikReddy.Peddola@rci.rogers.ca, Kevin.Chen@rci.rogers.ca, Khizer.Syed@rci.rogers.ca, Kiruthika.Venkatesan@rci.rogers.ca, Laila.Khatib@rci.rogers.ca, Laura.Huang@rci.rogers.ca, Leosailomaxwell.Lour@rci.rogers.ca, Lihui.Wang@rci.rogers.ca, Max.Gan@rci.rogers.ca, Mayur.Patel2@rci.rogers.ca, Naresh.Akkarapaka@rci.rogers.ca, Noura.Alwan@rci.rogers.ca, Olufemi.Adetona@rci.rogers.ca, Osman.Currim@rci.rogers.ca, Prashant.Jakhotiya@rci.rogers.ca, Rajiv.Chugh@rci.rogers.ca, Ranka.Samardzija@rci.rogers.ca, Rick.Li@rci.rogers.ca, RobertA.Groves@rci.rogers.ca, Robin.Gagnon@rci.rogers.ca, Santosh.Thundi@rci.rogers.ca, Sen.Wang@rci.rogers.ca, Shanie.Doobay@rci.rogers.ca, Shawn.Lazaros@rci.rogers.ca, Simon.So@rci.rogers.ca, Sol.Seyedi@rci.rogers.ca, Sreehari.S@rci.rogers.ca, Stephane.Belliveau@rci.rogers.ca, SteveC.Szenkovics@rci.rogers.ca, Stone.Li@rci.rogers.ca, Sudarshan.Bodireddy@rci.rogers.ca, Sumit.Kandari@rci.rogers.ca, Sumit.Rawal@rci.rogers.ca, Sunny.Chan@rci.rogers.ca, Swathi.Kondakalla@rci.rogers.ca, Timothy.Zub@rci.rogers.ca, Ting.Qi@rci.rogers.ca, Vandana.Basani@rci.rogers.ca, Vanessa.Ng@rci.rogers.ca, Vijayakumar.Sankaran@rci.rogers.ca, Wasif.Chowdhury@rci.rogers.ca, Zarif.Hasan@rci.rogers.ca]"
   ]
  },
  {
   "cell_type": "code",
   "execution_count": null,
   "metadata": {},
   "outputs": [],
   "source": []
  },
  {
   "cell_type": "code",
   "execution_count": null,
   "metadata": {},
   "outputs": [],
   "source": []
  },
  {
   "cell_type": "code",
   "execution_count": null,
   "metadata": {},
   "outputs": [],
   "source": []
  },
  {
   "cell_type": "code",
   "execution_count": 11,
   "metadata": {},
   "outputs": [
    {
     "ename": "AttributeError",
     "evalue": "module 'datetime' has no attribute 'timestamp'",
     "output_type": "error",
     "traceback": [
      "\u001b[0;31m---------------------------------------------------------------------------\u001b[0m",
      "\u001b[0;31mAttributeError\u001b[0m                            Traceback (most recent call last)",
      "\u001b[0;32m<ipython-input-11-207cc0f2425e>\u001b[0m in \u001b[0;36m<module>\u001b[0;34m\u001b[0m\n\u001b[0;32m----> 1\u001b[0;31m \u001b[0mprint\u001b[0m\u001b[0;34m(\u001b[0m\u001b[0mdatetime\u001b[0m\u001b[0;34m.\u001b[0m\u001b[0mtimestamp\u001b[0m\u001b[0;34m)\u001b[0m\u001b[0;34m\u001b[0m\u001b[0;34m\u001b[0m\u001b[0m\n\u001b[0m",
      "\u001b[0;31mAttributeError\u001b[0m: module 'datetime' has no attribute 'timestamp'"
     ]
    }
   ],
   "source": [
    "print(datetime.timestamp)"
   ]
  },
  {
   "cell_type": "code",
   "execution_count": null,
   "metadata": {},
   "outputs": [],
   "source": []
  },
  {
   "cell_type": "code",
   "execution_count": null,
   "metadata": {},
   "outputs": [],
   "source": []
  },
  {
   "cell_type": "code",
   "execution_count": null,
   "metadata": {},
   "outputs": [],
   "source": []
  },
  {
   "cell_type": "code",
   "execution_count": null,
   "metadata": {},
   "outputs": [],
   "source": []
  },
  {
   "cell_type": "code",
   "execution_count": null,
   "metadata": {},
   "outputs": [],
   "source": []
  }
 ],
 "metadata": {
  "interpreter": {
   "hash": "5935a40aa0fb191a09e3136de6eaea37ca2f1824e9162c5e0030f8395936e3e2"
  },
  "kernelspec": {
   "display_name": "Python 3.9.7 64-bit ('venv': venv)",
   "language": "python",
   "name": "python3"
  },
  "language_info": {
   "codemirror_mode": {
    "name": "ipython",
    "version": 3
   },
   "file_extension": ".py",
   "mimetype": "text/x-python",
   "name": "python",
   "nbconvert_exporter": "python",
   "pygments_lexer": "ipython3",
   "version": "3.9.7"
  },
  "orig_nbformat": 4
 },
 "nbformat": 4,
 "nbformat_minor": 2
}
