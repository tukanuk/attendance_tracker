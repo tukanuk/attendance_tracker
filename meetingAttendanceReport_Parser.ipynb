{
 "cells": [
  {
   "cell_type": "code",
   "execution_count": 327,
   "metadata": {},
   "outputs": [],
   "source": [
    "import re\n",
    "import settings"
   ]
  },
  {
   "cell_type": "code",
   "execution_count": 328,
   "metadata": {},
   "outputs": [],
   "source": [
    "with open(settings.attendance_report_path, 'r', encoding='utf8') as fp:\n",
    "    pass\n",
    "    doc = fp.read()\n",
    "    "
   ]
  },
  {
   "cell_type": "code",
   "execution_count": 329,
   "metadata": {},
   "outputs": [
    {
     "name": "stdout",
     "output_type": "stream",
     "text": [
      "/mnt/c/Users/ben.davidson/OneDrive - Dynatrace/Dev/attendance_tracker/data/meetingAttendanceReport.csv\n"
     ]
    }
   ],
   "source": [
    "print(settings.attendance_report_path)"
   ]
  },
  {
   "cell_type": "code",
   "execution_count": 10,
   "metadata": {},
   "outputs": [],
   "source": [
    "with open(settings.attendance_report_path, 'r', encoding='utf-16') as fp:\n",
    "    doc = fp.read()\n",
    "    "
   ]
  },
  {
   "cell_type": "code",
   "execution_count": 11,
   "metadata": {},
   "outputs": [
    {
     "name": "stdout",
     "output_type": "stream",
     "text": [
      "Rogers || Dynatrace Onboarding Coaching Session (Tueday Sessions Cohort 2)\n"
     ]
    }
   ],
   "source": [
    "# Session Title\n",
    "regex = r\"Title\\t(.*)\\n\"\n",
    "matches = re.findall(regex, doc)\n",
    "session_title = matches[0]\n",
    "print(session_title)"
   ]
  },
  {
   "cell_type": "code",
   "execution_count": 330,
   "metadata": {},
   "outputs": [
    {
     "name": "stdout",
     "output_type": "stream",
     "text": [
      "('12', '7', '2021')\n"
     ]
    },
    {
     "data": {
      "text/plain": [
       "'2021-1207'"
      ]
     },
     "execution_count": 330,
     "metadata": {},
     "output_type": "execute_result"
    }
   ],
   "source": [
    "# Session date\n",
    "regex = r\"Meeting Start Time\\t(\\d+)/(\\d+)/(\\d+),\"\n",
    "matches = re.findall(regex, doc)\n",
    "print(matches[0])\n",
    "date = f\"{matches[0][2]}-{int(matches[0][0]):02}{int(matches[0][1]):02}\"\n",
    "date\n"
   ]
  },
  {
   "cell_type": "code",
   "execution_count": 331,
   "metadata": {},
   "outputs": [
    {
     "name": "stdout",
     "output_type": "stream",
     "text": [
      "Cohort 2\n"
     ]
    }
   ],
   "source": [
    "# Session Cohort\n",
    "regex = r\"(Cohort \\d+)\"\n",
    "matches = re.findall(regex, doc)\n",
    "cohort = matches[0]\n",
    "print(cohort)"
   ]
  },
  {
   "cell_type": "code",
   "execution_count": 332,
   "metadata": {},
   "outputs": [
    {
     "data": {
      "text/plain": [
       "['albert.won@rci.rogers.ca',\n",
       " 'albert.won@rci.rogers.ca',\n",
       " 'amit.chaudhary@rci.rogers.ca',\n",
       " 'amit.chaudhary@rci.rogers.ca',\n",
       " 'andre.stahmer@rci.rogers.ca',\n",
       " 'andre.stahmer@rci.rogers.ca',\n",
       " 'andrei.laptev1@rci.rogers.ca',\n",
       " 'andrei.laptev1@rci.rogers.ca',\n",
       " 'anna.dava@rci.rogers.ca',\n",
       " 'anna.dava@rci.rogers.ca',\n",
       " 'archan.shah@rci.rogers.ca',\n",
       " 'archan.shah@rci.rogers.ca',\n",
       " 'arham.raza@rci.rogers.ca',\n",
       " 'arham.raza@rci.rogers.ca',\n",
       " 'arvind.raman@rci.rogers.ca',\n",
       " 'arvind.raman@rci.rogers.ca',\n",
       " 'belinda.liu@rci.rogers.ca',\n",
       " 'belinda.liu@rci.rogers.ca',\n",
       " 'belinda.liu@rci.rogers.ca',\n",
       " 'belinda.liu@rci.rogers.ca',\n",
       " 'ben.davidson@dynatrace.com',\n",
       " 'ben.davidson@dynatrace.com',\n",
       " 'bradley.jerome@rci.rogers.ca',\n",
       " 'bradley.jerome@rci.rogers.ca',\n",
       " 'brenton.kennedy@rci.rogers.ca',\n",
       " 'brenton.kennedy@rci.rogers.ca',\n",
       " 'charlesantoine.guite@rci.rogers.ca',\n",
       " 'charlesantoine.guite@rci.rogers.ca',\n",
       " 'chauncy.wang@rci.rogers.ca',\n",
       " 'chauncy.wang@rci.rogers.ca',\n",
       " 'christina.deng@rci.rogers.ca',\n",
       " 'christina.deng@rci.rogers.ca',\n",
       " 'daniel.nathan@rci.rogers.ca',\n",
       " 'daniel.nathan@rci.rogers.ca',\n",
       " 'david.pinhasov@rci.rogers.ca',\n",
       " 'david.pinhasov@rci.rogers.ca',\n",
       " 'dino.cirilli@rci.rogers.ca',\n",
       " 'dino.cirilli@rci.rogers.ca',\n",
       " 'ema.dijmarescu@rci.rogers.ca',\n",
       " 'ema.dijmarescu@rci.rogers.ca',\n",
       " 'emmanuel.bantugan@rci.rogers.ca',\n",
       " 'emmanuel.bantugan@rci.rogers.ca',\n",
       " 'fei.wang@rci.rogers.ca',\n",
       " 'fei.wang@rci.rogers.ca',\n",
       " 'gala.fetelya@rci.rogers.ca',\n",
       " 'gala.fetelya@rci.rogers.ca',\n",
       " 'gennady.tabachnik@rci.rogers.ca',\n",
       " 'gennady.tabachnik@rci.rogers.ca',\n",
       " 'giam.labrador@rci.rogers.ca',\n",
       " 'giam.labrador@rci.rogers.ca',\n",
       " 'gunjan.khanwilkar@rci.rogers.ca',\n",
       " 'gunjan.khanwilkar@rci.rogers.ca',\n",
       " 'harikrishnan.krishna@rci.rogers.ca',\n",
       " 'harikrishnan.krishna@rci.rogers.ca',\n",
       " 'haris.najam@rci.rogers.ca',\n",
       " 'haris.najam@rci.rogers.ca',\n",
       " 'helen.navarro@rci.rogers.ca',\n",
       " 'helen.navarro@rci.rogers.ca',\n",
       " 'hoshiyar.digari@rci.rogers.ca',\n",
       " 'hoshiyar.digari@rci.rogers.ca',\n",
       " 'ipsa.sawhney@rci.rogers.ca',\n",
       " 'ipsa.sawhney@rci.rogers.ca',\n",
       " 'jamesb.chan@rci.rogers.ca',\n",
       " 'jamesb.chan@rci.rogers.ca',\n",
       " 'jean.giroux@rci.rogers.ca',\n",
       " 'jean.giroux@rci.rogers.ca',\n",
       " 'jennifer.timbang@rci.rogers.ca',\n",
       " 'jennifer.timbang@rci.rogers.ca',\n",
       " 'jing.lin@rci.rogers.ca',\n",
       " 'jing.lin@rci.rogers.ca',\n",
       " 'joseph.napoleone@rci.rogers.ca',\n",
       " 'joseph.napoleone@rci.rogers.ca',\n",
       " 'kent.so@rci.rogers.ca',\n",
       " 'kent.so@rci.rogers.ca',\n",
       " 'khyati.zaveri@rci.rogers.ca',\n",
       " 'khyati.zaveri@rci.rogers.ca',\n",
       " 'lakshmi.prasad@rci.rogers.ca',\n",
       " 'lakshmi.prasad@rci.rogers.ca',\n",
       " 'lan.luu@rci.rogers.ca',\n",
       " 'lan.luu@rci.rogers.ca',\n",
       " 'lino.dagnone@rci.rogers.ca',\n",
       " 'lino.dagnone@rci.rogers.ca',\n",
       " 'lucia.henzel@rci.rogers.ca',\n",
       " 'lucia.henzel@rci.rogers.ca',\n",
       " 'maheshkumar.dharmali@rci.rogers.ca',\n",
       " 'maheshkumar.dharmali@rci.rogers.ca',\n",
       " 'maira.menegas@rci.rogers.ca',\n",
       " 'maira.menegas@rci.rogers.ca',\n",
       " 'manish.kapoor@rci.rogers.ca',\n",
       " 'manish.kapoor@rci.rogers.ca',\n",
       " 'mohammed.badsha@rci.rogers.ca',\n",
       " 'mohammed.badsha@rci.rogers.ca',\n",
       " 'moussa.sanogo@rci.rogers.ca',\n",
       " 'moussa.sanogo@rci.rogers.ca',\n",
       " 'muhammad.ahmad2@rci.rogers.ca',\n",
       " 'muhammad.ahmad2@rci.rogers.ca',\n",
       " 'muhammad.imran@rci.rogers.ca',\n",
       " 'muhammad.imran@rci.rogers.ca',\n",
       " 'murali.kanaparthy@rci.rogers.ca',\n",
       " 'murali.kanaparthy@rci.rogers.ca',\n",
       " 'nagaaishwarya.appidi@rci.rogers.ca',\n",
       " 'nagaaishwarya.appidi@rci.rogers.ca',\n",
       " 'navi.hothi@rci.rogers.ca',\n",
       " 'navi.hothi@rci.rogers.ca',\n",
       " 'patrick.chojnacki@rci.rogers.ca',\n",
       " 'patrick.chojnacki@rci.rogers.ca',\n",
       " 'prashant.sangani@rci.rogers.ca',\n",
       " 'prashant.sangani@rci.rogers.ca',\n",
       " 'richashalin.parikh@rci.rogers.ca',\n",
       " 'richashalin.parikh@rci.rogers.ca',\n",
       " 'rob.tapp@rci.rogers.ca',\n",
       " 'rob.tapp@rci.rogers.ca',\n",
       " 'robert.broughton@rci.rogers.ca',\n",
       " 'robert.broughton@rci.rogers.ca',\n",
       " 'saikiran.thota@rci.rogers.ca',\n",
       " 'saikiran.thota@rci.rogers.ca',\n",
       " 'serge.cimpaye@rci.rogers.ca',\n",
       " 'serge.cimpaye@rci.rogers.ca',\n",
       " 'seyed.marashi@rci.rogers.ca',\n",
       " 'seyed.marashi@rci.rogers.ca',\n",
       " 'shweta.dubey@rci.rogers.ca',\n",
       " 'shweta.dubey@rci.rogers.ca',\n",
       " 'victor.li@rci.rogers.ca',\n",
       " 'victor.li@rci.rogers.ca',\n",
       " 'vikash.singh@rci.rogers.ca',\n",
       " 'vikash.singh@rci.rogers.ca']"
      ]
     },
     "execution_count": 332,
     "metadata": {},
     "output_type": "execute_result"
    }
   ],
   "source": [
    "# Email addresses\n",
    "regex = r'[A-Z0-9._%+-]+@[A-Z0-9.-]+\\.[A-Z]{2,4}'\n",
    "matches = re.findall(regex, doc, re.IGNORECASE)\n",
    "\n",
    "# make lower case\n",
    "emails = [x.lower() for x in matches]\n",
    "emails.sort()\n",
    "\n",
    "# remove duplicates by first.last\n",
    "\n",
    "emails"
   ]
  },
  {
   "cell_type": "code",
   "execution_count": 333,
   "metadata": {},
   "outputs": [
    {
     "name": "stdout",
     "output_type": "stream",
     "text": [
      "Original email list is 126 long\n",
      "Cleaned email list is 62 long\n"
     ]
    },
    {
     "data": {
      "text/plain": [
       "['albert.won@rci.rogers.ca',\n",
       " 'amit.chaudhary@rci.rogers.ca',\n",
       " 'andre.stahmer@rci.rogers.ca',\n",
       " 'andrei.laptev1@rci.rogers.ca',\n",
       " 'anna.dava@rci.rogers.ca',\n",
       " 'archan.shah@rci.rogers.ca',\n",
       " 'arham.raza@rci.rogers.ca',\n",
       " 'arvind.raman@rci.rogers.ca',\n",
       " 'belinda.liu@rci.rogers.ca',\n",
       " 'ben.davidson@dynatrace.com',\n",
       " 'bradley.jerome@rci.rogers.ca',\n",
       " 'brenton.kennedy@rci.rogers.ca',\n",
       " 'charlesantoine.guite@rci.rogers.ca',\n",
       " 'chauncy.wang@rci.rogers.ca',\n",
       " 'christina.deng@rci.rogers.ca',\n",
       " 'daniel.nathan@rci.rogers.ca',\n",
       " 'david.pinhasov@rci.rogers.ca',\n",
       " 'dino.cirilli@rci.rogers.ca',\n",
       " 'ema.dijmarescu@rci.rogers.ca',\n",
       " 'emmanuel.bantugan@rci.rogers.ca',\n",
       " 'fei.wang@rci.rogers.ca',\n",
       " 'gala.fetelya@rci.rogers.ca',\n",
       " 'gennady.tabachnik@rci.rogers.ca',\n",
       " 'giam.labrador@rci.rogers.ca',\n",
       " 'gunjan.khanwilkar@rci.rogers.ca',\n",
       " 'harikrishnan.krishna@rci.rogers.ca',\n",
       " 'haris.najam@rci.rogers.ca',\n",
       " 'helen.navarro@rci.rogers.ca',\n",
       " 'hoshiyar.digari@rci.rogers.ca',\n",
       " 'ipsa.sawhney@rci.rogers.ca',\n",
       " 'jamesb.chan@rci.rogers.ca',\n",
       " 'jean.giroux@rci.rogers.ca',\n",
       " 'jennifer.timbang@rci.rogers.ca',\n",
       " 'jing.lin@rci.rogers.ca',\n",
       " 'joseph.napoleone@rci.rogers.ca',\n",
       " 'kent.so@rci.rogers.ca',\n",
       " 'khyati.zaveri@rci.rogers.ca',\n",
       " 'lakshmi.prasad@rci.rogers.ca',\n",
       " 'lan.luu@rci.rogers.ca',\n",
       " 'lino.dagnone@rci.rogers.ca',\n",
       " 'lucia.henzel@rci.rogers.ca',\n",
       " 'maheshkumar.dharmali@rci.rogers.ca',\n",
       " 'maira.menegas@rci.rogers.ca',\n",
       " 'manish.kapoor@rci.rogers.ca',\n",
       " 'mohammed.badsha@rci.rogers.ca',\n",
       " 'moussa.sanogo@rci.rogers.ca',\n",
       " 'muhammad.ahmad2@rci.rogers.ca',\n",
       " 'muhammad.imran@rci.rogers.ca',\n",
       " 'murali.kanaparthy@rci.rogers.ca',\n",
       " 'nagaaishwarya.appidi@rci.rogers.ca',\n",
       " 'navi.hothi@rci.rogers.ca',\n",
       " 'patrick.chojnacki@rci.rogers.ca',\n",
       " 'prashant.sangani@rci.rogers.ca',\n",
       " 'richashalin.parikh@rci.rogers.ca',\n",
       " 'rob.tapp@rci.rogers.ca',\n",
       " 'robert.broughton@rci.rogers.ca',\n",
       " 'saikiran.thota@rci.rogers.ca',\n",
       " 'serge.cimpaye@rci.rogers.ca',\n",
       " 'seyed.marashi@rci.rogers.ca',\n",
       " 'shweta.dubey@rci.rogers.ca',\n",
       " 'victor.li@rci.rogers.ca',\n",
       " 'vikash.singh@rci.rogers.ca']"
      ]
     },
     "execution_count": 333,
     "metadata": {},
     "output_type": "execute_result"
    }
   ],
   "source": [
    "# Remove duplicates from email list\n",
    "print(f\"Original email list is {len(emails)} long\")\n",
    "cleaned_emails = []\n",
    "for email in emails:\n",
    "    # looking for user name matches (ignore domain)\n",
    "    name = email.split('@')[0]\n",
    "\n",
    "    if not re.search(rf\"{name}\", str(cleaned_emails), re.IGNORECASE):\n",
    "        cleaned_emails.append(email)\n",
    "\n",
    "print(f\"Cleaned email list is {len(cleaned_emails)} long\")\n",
    "cleaned_emails"
   ]
  },
  {
   "cell_type": "code",
   "execution_count": 334,
   "metadata": {},
   "outputs": [
    {
     "data": {
      "text/plain": [
       "'2021-1207_Rogers_Cohort_2.csv'"
      ]
     },
     "execution_count": 334,
     "metadata": {},
     "output_type": "execute_result"
    }
   ],
   "source": [
    "filename = f\"{date}_{session_title.split('||')[0].strip(' ')}_{cohort.replace(' ', '_')}.csv\"\n",
    "filename"
   ]
  }
 ],
 "metadata": {
  "interpreter": {
   "hash": "7c0c09f05fe62b7577a637e75dc1f4fab7bed0a15adfd69c526e8914875b3d40"
  },
  "kernelspec": {
   "display_name": "Python 3.9.7 64-bit ('venv': venv)",
   "language": "python",
   "name": "python3"
  },
  "language_info": {
   "codemirror_mode": {
    "name": "ipython",
    "version": 3
   },
   "file_extension": ".py",
   "mimetype": "text/x-python",
   "name": "python",
   "nbconvert_exporter": "python",
   "pygments_lexer": "ipython3",
   "version": "3.9.10"
  },
  "orig_nbformat": 4
 },
 "nbformat": 4,
 "nbformat_minor": 2
}
