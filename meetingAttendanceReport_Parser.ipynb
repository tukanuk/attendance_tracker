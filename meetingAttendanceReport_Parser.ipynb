{
 "cells": [
  {
   "cell_type": "code",
   "execution_count": 327,
   "metadata": {},
   "outputs": [],
   "source": [
    "import re\n",
    "import settings"
   ]
  },
  {
   "cell_type": "code",
   "execution_count": 328,
   "metadata": {},
   "outputs": [],
   "source": [
    "with open(settings.attendance_report_path, 'r', encoding='utf8') as fp:\n",
    "    pass\n",
    "    doc = fp.read()\n",
    "    "
   ]
  },
  {
   "cell_type": "code",
   "execution_count": 329,
   "metadata": {},
   "outputs": [
    {
     "name": "stdout",
     "output_type": "stream",
     "text": [
      "Rogers || Dynatrace Advanced Coaching Session (Thursday Sessions Cohort 1)\n"
     ]
    }
   ],
   "source": [
    "# Session Title\n",
    "regex = r\"Title\\t(.*)\\n\"\n",
    "matches = re.findall(regex, doc)\n",
    "session_title = matches[0]\n",
    "print(session_title)"
   ]
  },
  {
   "cell_type": "code",
   "execution_count": 330,
   "metadata": {},
   "outputs": [
    {
     "name": "stdout",
     "output_type": "stream",
     "text": [
      "('1', '6', '2022')\n"
     ]
    },
    {
     "data": {
      "text/plain": [
       "'2022-0106'"
      ]
     },
     "execution_count": 330,
     "metadata": {},
     "output_type": "execute_result"
    }
   ],
   "source": [
    "# Session date\n",
    "regex = r\"Meeting Start Time\\t(\\d+)/(\\d+)/(\\d+),\"\n",
    "matches = re.findall(regex, doc)\n",
    "print(matches[0])\n",
    "date = f\"{matches[0][2]}-{int(matches[0][0]):02}{int(matches[0][1]):02}\"\n",
    "date\n"
   ]
  },
  {
   "cell_type": "code",
   "execution_count": 331,
   "metadata": {},
   "outputs": [
    {
     "name": "stdout",
     "output_type": "stream",
     "text": [
      "Cohort 1\n"
     ]
    }
   ],
   "source": [
    "# Session Cohort\n",
    "regex = r\"(Cohort \\d+)\"\n",
    "matches = re.findall(regex, doc)\n",
    "cohort = matches[0]\n",
    "print(cohort)"
   ]
  },
  {
   "cell_type": "code",
   "execution_count": 332,
   "metadata": {},
   "outputs": [
    {
     "data": {
      "text/plain": [
       "['alaa.buheis@rci.rogers.ca',\n",
       " 'alaa.buheis@rci.rogers.com',\n",
       " 'ananta.bhatt@rci.rogers.ca',\n",
       " 'ananta.bhatt@rci.rogers.com',\n",
       " 'anil.kumar@rci.rogers.ca',\n",
       " 'anil.kumar@rci.rogers.com',\n",
       " 'anil.sharma@rci.rogers.ca',\n",
       " 'anil.sharma@rci.rogers.com',\n",
       " 'anirban.das@rci.rogers.ca',\n",
       " 'anirban.das@rci.rogers.com',\n",
       " 'archan.shah@rci.rogers.ca',\n",
       " 'archan.shah@rci.rogers.com',\n",
       " 'arshpreet.chahal@rci.rogers.ca',\n",
       " 'arshpreet.chahal@rci.rogers.com',\n",
       " 'arthur.gawronski@rci.rogers.ca',\n",
       " 'arthur.gawronski@rci.rogers.com',\n",
       " 'arvind.raman@rci.rogers.ca',\n",
       " 'arvind.raman@rci.rogers.com',\n",
       " 'awais.iqbal@rci.rogers.ca',\n",
       " 'awais.iqbal@rci.rogers.com',\n",
       " 'ben.davidson@dynatrace.com',\n",
       " 'ben.davidson@dynatrace.com',\n",
       " 'ben.davidson@dynatrace.com',\n",
       " 'ben.davidson@dynatrace.com',\n",
       " 'brenton.kennedy@rci.rogers.ca',\n",
       " 'brenton.kennedy@rci.rogers.com',\n",
       " 'bruce.guan@rci.rogers.ca',\n",
       " 'bruce.guan@rci.rogers.com',\n",
       " 'catherine.vasseur@rci.rogers.ca',\n",
       " 'catherine.vasseur@rci.rogers.com',\n",
       " 'charlesantoine.guite@rci.rogers.ca',\n",
       " 'charlesantoine.guite@rci.rogers.com',\n",
       " 'dashvir.kheppar@rci.rogers.ca',\n",
       " 'dashvir.kheppar@rci.rogers.com',\n",
       " 'david.pinhasov@rci.rogers.ca',\n",
       " 'david.pinhasov@rci.rogers.com',\n",
       " 'ema.dijmarescu@rci.rogers.ca',\n",
       " 'ema.dijmarescu@rci.rogers.com',\n",
       " 'emmanuel.bantugan@rci.rogers.ca',\n",
       " 'emmanuel.bantugan@rci.rogers.com',\n",
       " 'fei.wang@rci.rogers.ca',\n",
       " 'fei.wang@rci.rogers.com',\n",
       " 'frederic.gailloux@rci.rogers.ca',\n",
       " 'frederic.gailloux@rci.rogers.com',\n",
       " 'giam.labrador@rci.rogers.ca',\n",
       " 'giam.labrador@rci.rogers.com',\n",
       " 'hakan.utkan@rci.rogers.ca',\n",
       " 'hakan.utkan@rci.rogers.com',\n",
       " 'haris.najam@rci.rogers.ca',\n",
       " 'haris.najam@rci.rogers.com',\n",
       " 'henry.jing@rci.rogers.ca',\n",
       " 'henry.jing@rci.rogers.com',\n",
       " 'himani.himani2@rci.rogers.ca',\n",
       " 'himani.himani2@rci.rogers.com',\n",
       " 'ipsa.sawhney@rci.rogers.ca',\n",
       " 'ipsa.sawhney@rci.rogers.com',\n",
       " 'ivan.diep@rci.rogers.ca',\n",
       " 'ivan.diep@rci.rogers.com',\n",
       " 'james.jiang@rci.rogers.ca',\n",
       " 'james.jiang@rci.rogers.com',\n",
       " 'jason.zhu@rci.rogers.ca',\n",
       " 'jason.zhu@rci.rogers.com',\n",
       " 'jean.giroux@rci.rogers.ca',\n",
       " 'jean.giroux@rci.rogers.com',\n",
       " 'jeremy.liu@rci.rogers.ca',\n",
       " 'jeremy.liu@rci.rogers.com',\n",
       " 'jing.lin@rci.rogers.ca',\n",
       " 'jing.lin@rci.rogers.com',\n",
       " 'joseph.napoleone@rci.rogers.ca',\n",
       " 'joseph.napoleone@rci.rogers.com',\n",
       " 'kapil.kumar@rci.rogers.ca',\n",
       " 'kapil.kumar@rci.rogers.com',\n",
       " 'karthikreddy.peddola@rci.rogers.ca',\n",
       " 'karthikreddy.peddola@rci.rogers.com',\n",
       " 'lakshmi.prasad@rci.rogers.ca',\n",
       " 'lakshmi.prasad@rci.rogers.com',\n",
       " 'laura.huang@rci.rogers.ca',\n",
       " 'laura.huang@rci.rogers.com',\n",
       " 'leosailomaxwell.lour@rci.rogers.ca',\n",
       " 'leosailomaxwell.lour@rci.rogers.com',\n",
       " 'lihui.wang@rci.rogers.ca',\n",
       " 'lihui.wang@rci.rogers.com',\n",
       " 'maryam.mehrjoo@rci.rogers.ca',\n",
       " 'maryam.mehrjoo@rci.rogers.com',\n",
       " 'muhammad.ahmad2@rci.rogers.ca',\n",
       " 'muhammad.ahmad2@rci.rogers.com',\n",
       " 'muhammad.imran@rci.rogers.ca',\n",
       " 'muhammad.imran@rci.rogers.com',\n",
       " 'murali.kanaparthy@rci.rogers.ca',\n",
       " 'murali.kanaparthy@rci.rogers.com',\n",
       " 'naresh.akkarapaka@rci.rogers.ca',\n",
       " 'naresh.akkarapaka@rci.rogers.com',\n",
       " 'noura.alwan@rci.rogers.ca',\n",
       " 'noura.alwan@rci.rogers.com',\n",
       " 'osman.currim@rci.rogers.ca',\n",
       " 'osman.currim@rci.rogers.com',\n",
       " 'patrick.chojnacki@rci.rogers.ca',\n",
       " 'patrick.chojnacki@rci.rogers.com',\n",
       " 'prashant.sangani@rci.rogers.ca',\n",
       " 'prashant.sangani@rci.rogers.com',\n",
       " 'ravi.gupta@rci.rogers.ca',\n",
       " 'ravi.gupta@rci.rogers.ca',\n",
       " 'ravi.gupta@rci.rogers.com',\n",
       " 'ravi.gupta@rci.rogers.com',\n",
       " 'roberta.groves@rci.rogers.ca',\n",
       " 'roberta.groves@rci.rogers.com',\n",
       " 'sagar.gandhi@rci.rogers.ca',\n",
       " 'sagar.gandhi@rci.rogers.com',\n",
       " 'santosh.thundi@rci.rogers.ca',\n",
       " 'santosh.thundi@rci.rogers.com',\n",
       " 'sdoobay@rci.rogers.com',\n",
       " 'sergey.zinchenko@rci.rogers.ca',\n",
       " 'sergey.zinchenko@rci.rogers.com',\n",
       " 'seyed.marashi@rci.rogers.ca',\n",
       " 'seyed.marashi@rci.rogers.com',\n",
       " 'shanie.doobay@rci.rogers.ca',\n",
       " 'stephane.belliveau@rci.rogers.ca',\n",
       " 'stephane.belliveau@rci.rogers.com',\n",
       " 'sumit.kandari@rci.rogers.ca',\n",
       " 'sumit.kandari@rci.rogers.com',\n",
       " 'surendar.kumar@rci.rogers.ca',\n",
       " 'surendar.kumar@rci.rogers.com',\n",
       " 'swathi.kondakalla@rci.rogers.ca',\n",
       " 'swathi.kondakalla@rci.rogers.com',\n",
       " 'timothy.zub@rci.rogers.ca',\n",
       " 'timothy.zub@rci.rogers.com',\n",
       " 'vanessa.ng@rci.rogers.ca',\n",
       " 'vanessa.ng@rci.rogers.com',\n",
       " 'vikash.singh@rci.rogers.ca',\n",
       " 'vikash.singh@rci.rogers.com',\n",
       " 'wasif.chowdhury@rci.rogers.ca',\n",
       " 'wasif.chowdhury@rci.rogers.com',\n",
       " 'william_durrell@epam.com',\n",
       " 'william_durrell@epam.com',\n",
       " 'zaryab.mahmood@rci.rogers.ca',\n",
       " 'zaryab.mahmood@rci.rogers.com',\n",
       " 'zhiwei.bao@rci.rogers.ca',\n",
       " 'zhiwei.bao@rci.rogers.com']"
      ]
     },
     "execution_count": 332,
     "metadata": {},
     "output_type": "execute_result"
    }
   ],
   "source": [
    "# Email addresses\n",
    "regex = r'[A-Z0-9._%+-]+@[A-Z0-9.-]+\\.[A-Z]{2,4}'\n",
    "matches = re.findall(regex, doc, re.IGNORECASE)\n",
    "\n",
    "# make lower case\n",
    "emails = [x.lower() for x in matches]\n",
    "emails.sort()\n",
    "\n",
    "# remove duplicates by first.last\n",
    "\n",
    "emails"
   ]
  },
  {
   "cell_type": "code",
   "execution_count": 333,
   "metadata": {},
   "outputs": [
    {
     "name": "stdout",
     "output_type": "stream",
     "text": [
      "Original email list is 138 long\n",
      "Cleaned email list is 68 long\n"
     ]
    },
    {
     "data": {
      "text/plain": [
       "['alaa.buheis@rci.rogers.ca',\n",
       " 'ananta.bhatt@rci.rogers.ca',\n",
       " 'anil.kumar@rci.rogers.ca',\n",
       " 'anil.sharma@rci.rogers.ca',\n",
       " 'anirban.das@rci.rogers.ca',\n",
       " 'archan.shah@rci.rogers.ca',\n",
       " 'arshpreet.chahal@rci.rogers.ca',\n",
       " 'arthur.gawronski@rci.rogers.ca',\n",
       " 'arvind.raman@rci.rogers.ca',\n",
       " 'awais.iqbal@rci.rogers.ca',\n",
       " 'ben.davidson@dynatrace.com',\n",
       " 'brenton.kennedy@rci.rogers.ca',\n",
       " 'bruce.guan@rci.rogers.ca',\n",
       " 'catherine.vasseur@rci.rogers.ca',\n",
       " 'charlesantoine.guite@rci.rogers.ca',\n",
       " 'dashvir.kheppar@rci.rogers.ca',\n",
       " 'david.pinhasov@rci.rogers.ca',\n",
       " 'ema.dijmarescu@rci.rogers.ca',\n",
       " 'emmanuel.bantugan@rci.rogers.ca',\n",
       " 'fei.wang@rci.rogers.ca',\n",
       " 'frederic.gailloux@rci.rogers.ca',\n",
       " 'giam.labrador@rci.rogers.ca',\n",
       " 'hakan.utkan@rci.rogers.ca',\n",
       " 'haris.najam@rci.rogers.ca',\n",
       " 'henry.jing@rci.rogers.ca',\n",
       " 'himani.himani2@rci.rogers.ca',\n",
       " 'ipsa.sawhney@rci.rogers.ca',\n",
       " 'ivan.diep@rci.rogers.ca',\n",
       " 'james.jiang@rci.rogers.ca',\n",
       " 'jason.zhu@rci.rogers.ca',\n",
       " 'jean.giroux@rci.rogers.ca',\n",
       " 'jeremy.liu@rci.rogers.ca',\n",
       " 'jing.lin@rci.rogers.ca',\n",
       " 'joseph.napoleone@rci.rogers.ca',\n",
       " 'kapil.kumar@rci.rogers.ca',\n",
       " 'karthikreddy.peddola@rci.rogers.ca',\n",
       " 'lakshmi.prasad@rci.rogers.ca',\n",
       " 'laura.huang@rci.rogers.ca',\n",
       " 'leosailomaxwell.lour@rci.rogers.ca',\n",
       " 'lihui.wang@rci.rogers.ca',\n",
       " 'maryam.mehrjoo@rci.rogers.ca',\n",
       " 'muhammad.ahmad2@rci.rogers.ca',\n",
       " 'muhammad.imran@rci.rogers.ca',\n",
       " 'murali.kanaparthy@rci.rogers.ca',\n",
       " 'naresh.akkarapaka@rci.rogers.ca',\n",
       " 'noura.alwan@rci.rogers.ca',\n",
       " 'osman.currim@rci.rogers.ca',\n",
       " 'patrick.chojnacki@rci.rogers.ca',\n",
       " 'prashant.sangani@rci.rogers.ca',\n",
       " 'ravi.gupta@rci.rogers.ca',\n",
       " 'roberta.groves@rci.rogers.ca',\n",
       " 'sagar.gandhi@rci.rogers.ca',\n",
       " 'santosh.thundi@rci.rogers.ca',\n",
       " 'sdoobay@rci.rogers.com',\n",
       " 'sergey.zinchenko@rci.rogers.ca',\n",
       " 'seyed.marashi@rci.rogers.ca',\n",
       " 'shanie.doobay@rci.rogers.ca',\n",
       " 'stephane.belliveau@rci.rogers.ca',\n",
       " 'sumit.kandari@rci.rogers.ca',\n",
       " 'surendar.kumar@rci.rogers.ca',\n",
       " 'swathi.kondakalla@rci.rogers.ca',\n",
       " 'timothy.zub@rci.rogers.ca',\n",
       " 'vanessa.ng@rci.rogers.ca',\n",
       " 'vikash.singh@rci.rogers.ca',\n",
       " 'wasif.chowdhury@rci.rogers.ca',\n",
       " 'william_durrell@epam.com',\n",
       " 'zaryab.mahmood@rci.rogers.ca',\n",
       " 'zhiwei.bao@rci.rogers.ca']"
      ]
     },
     "execution_count": 333,
     "metadata": {},
     "output_type": "execute_result"
    }
   ],
   "source": [
    "# Remove duplicates from email list\n",
    "print(f\"Original email list is {len(emails)} long\")\n",
    "cleaned_emails = []\n",
    "for email in emails:\n",
    "    # looking for user name matches (ignore domain)\n",
    "    name = email.split('@')[0]\n",
    "\n",
    "    if not re.search(rf\"{name}\", str(cleaned_emails), re.IGNORECASE):\n",
    "        cleaned_emails.append(email)\n",
    "\n",
    "print(f\"Cleaned email list is {len(cleaned_emails)} long\")\n",
    "cleaned_emails"
   ]
  },
  {
   "cell_type": "code",
   "execution_count": 334,
   "metadata": {},
   "outputs": [
    {
     "data": {
      "text/plain": [
       "'2022-0106_Rogers_Cohort_1.csv'"
      ]
     },
     "execution_count": 334,
     "metadata": {},
     "output_type": "execute_result"
    }
   ],
   "source": [
    "filename = f\"{date}_{session_title.split('||')[0].strip(' ')}_{cohort.replace(' ', '_')}.csv\"\n",
    "filename"
   ]
  }
 ],
 "metadata": {
  "interpreter": {
   "hash": "7c0c09f05fe62b7577a637e75dc1f4fab7bed0a15adfd69c526e8914875b3d40"
  },
  "kernelspec": {
   "display_name": "Python 3.9.7 64-bit ('venv': venv)",
   "language": "python",
   "name": "python3"
  },
  "language_info": {
   "codemirror_mode": {
    "name": "ipython",
    "version": 3
   },
   "file_extension": ".py",
   "mimetype": "text/x-python",
   "name": "python",
   "nbconvert_exporter": "python",
   "pygments_lexer": "ipython3",
   "version": "3.9.7"
  },
  "orig_nbformat": 4
 },
 "nbformat": 4,
 "nbformat_minor": 2
}
